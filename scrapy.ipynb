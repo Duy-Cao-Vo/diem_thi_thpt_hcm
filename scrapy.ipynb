{
 "cells": [
  {
   "cell_type": "code",
   "execution_count": 1,
   "metadata": {},
   "outputs": [],
   "source": [
    "# import sys\n",
    "# sys.path.insert(0,'/usr/lib/chromium-browser/chromedriver')\n",
    "import argparse\n",
    "import time\n",
    "import json\n",
    "import csv\n",
    "\n",
    "from selenium import webdriver\n",
    "from selenium.webdriver.chrome.options import Options\n",
    "from bs4 import BeautifulSoup as bs\n",
    "import tqdm\n",
    "\n",
    "import argparse\n",
    "import time\n",
    "\n",
    "from selenium import webdriver\n",
    "from selenium.webdriver.chrome.options import Options\n",
    "from bs4 import BeautifulSoup as bs\n",
    "\n",
    "from datetime import date\n",
    "import os\n",
    "import pandas as pd\n",
    "import numpy as np"
   ]
  },
  {
   "cell_type": "code",
   "execution_count": 2,
   "metadata": {},
   "outputs": [
    {
     "name": "stdout",
     "output_type": "stream",
     "text": [
      "Today's date: 2021_10_21\n",
      "'run_2021_10_21' is already EXISTED! --> REMOVE OLD DIR...\n"
     ]
    }
   ],
   "source": [
    "today = date.today().strftime(\"%Y_%m_%d\")\n",
    "print(\"Today's date:\", today)\n",
    "\n",
    "# create debug folder\n",
    "debug_path = \"run_\" + today\n",
    "\n",
    "if os.path.exists(debug_path):\n",
    "    print(\"\\'{}\\' is already EXISTED! --> REMOVE OLD DIR...\".format(debug_path))\n",
    "    # shutil.rmtree(debug_path)\n",
    "else:\n",
    "    os.mkdir(debug_path)\n",
    "    print(\"\\'{}\\' is CREATED!\".format(debug_path))"
   ]
  },
  {
   "cell_type": "code",
   "execution_count": 3,
   "metadata": {},
   "outputs": [],
   "source": [
    "def _extract_html(bs_data):\n",
    "    # Add to check\n",
    "#     with open(debug_path+'/bs.html', \"w\", encoding=\"utf-8\") as file:\n",
    "#         file.write(str(bs_data.prettify()))\n",
    "\n",
    "    data = []\n",
    "    table = bs_data.find('table', attrs={'class': 'table ptnk-tab-container-2'})\n",
    "    table_body = table.find('tbody')\n",
    "\n",
    "    rows = table_body.find_all('tr')\n",
    "    for row in rows:\n",
    "        cols = row.find_all('td')\n",
    "\n",
    "        cols = [ele.text.strip() for ele in cols]\n",
    "        data.append(cols)\n",
    "        # cols = [' '.join(ele.split()) for ele in cols]\n",
    "        # data.append([ele for ele in cols if ele])\n",
    "    return data"
   ]
  },
  {
   "cell_type": "code",
   "execution_count": 4,
   "metadata": {},
   "outputs": [],
   "source": [
    "def extract(list_student = (2004318,2033237) ):\n",
    "    option = Options()\n",
    "    option.add_argument(\"--disable-infobars\")\n",
    "    option.add_argument(\"start-maximized\")\n",
    "    option.add_argument(\"--disable-extensions\")\n",
    "    option.add_argument('--headless')\n",
    "    option.add_argument('--no-sandbox')\n",
    "    option.add_argument('--disable-dev-shm-usage')\n",
    "\n",
    "    # Pass the argument 1 to allow and 2 to block\n",
    "    option.add_experimental_option(\"prefs\", {\n",
    "        \"profile.default_content_setting_values.notifications\": 2,\n",
    "        \"profile.default_content_setting_values.images\": 2,\n",
    "        \"profile.managed_default_content_settings.images\": 2\n",
    "    })\n",
    "\n",
    "    # chromedriver should be in the same folder as file\n",
    "    # browser = webdriver.Chrome(ChromeDriverManager().install())\n",
    "    browser = webdriver.Chrome(executable_path=\"./chromedriver.exe\", options=option)\n",
    "    start = list_student[0]\n",
    "    end = list_student[1]\n",
    "    sbd = start\n",
    "    while sbd <= end:\n",
    "        SBD = str(sbd).zfill(8)\n",
    "        SBD = SBD[:6] + '**'\n",
    "        browser.get(\"https://thanhnien.vn/giao-duc/tuyen-sinh/2021/tra-cuu-diem-thi-thpt-quoc-gia.html#{}\".format(SBD))\n",
    "        source_data = browser.page_source\n",
    "        bs_data = bs(source_data, 'html.parser')\n",
    "        s = _extract_html(bs_data)\n",
    "        data = pd.DataFrame(s)\n",
    "        data.to_csv(debug_path+f'/{sbd}.csv', index=False)\n",
    "        sbd += 100\n",
    "    return data"
   ]
  },
  {
   "cell_type": "code",
   "execution_count": 5,
   "metadata": {},
   "outputs": [],
   "source": [
    "import math\n",
    "def seperate_thread(list_student = (2000000,2089180), thread = 4):\n",
    "    start = list_student[0]\n",
    "    end = list_student[1] + 1\n",
    "    divi = math.floor((end - start) / thread)\n",
    "    list_students = []\n",
    "    for i in range(thread-1):\n",
    "        list_students.append((start + i*divi, start + (i+1)*divi ))\n",
    "    list_students.append((start + (thread-1)*divi, end))\n",
    "    return list_students"
   ]
  },
  {
   "cell_type": "code",
   "execution_count": 6,
   "metadata": {},
   "outputs": [],
   "source": [
    "import concurrent"
   ]
  },
  {
   "cell_type": "code",
   "execution_count": 7,
   "metadata": {},
   "outputs": [],
   "source": [
    "list_students = seperate_thread(list_student = (2000000,2089180), thread = 5)\n",
    "with concurrent.futures.ThreadPoolExecutor() as executor:\n",
    "    executor.map(extract, list_students)"
   ]
  },
  {
   "cell_type": "code",
   "execution_count": 8,
   "metadata": {},
   "outputs": [],
   "source": [
    "import os"
   ]
  },
  {
   "cell_type": "code",
   "execution_count": 9,
   "metadata": {},
   "outputs": [],
   "source": [
    "df = pd.DataFrame()\n",
    "for f in os.listdir(f'./{debug_path}')[1:]:\n",
    "    read = pd.read_csv(debug_path+f'/{f}')\n",
    "    df = pd.concat([df, read])"
   ]
  },
  {
   "cell_type": "code",
   "execution_count": 10,
   "metadata": {},
   "outputs": [],
   "source": [
    "df = df.iloc[:, 2:-1]"
   ]
  },
  {
   "cell_type": "code",
   "execution_count": 11,
   "metadata": {},
   "outputs": [],
   "source": [
    "columns = ['Họ và Tên', 'SBD', 'Ngày sinh', 'Giới tính', \n",
    "           'Toán', 'Ngữ văn', 'Vật lí', 'Hóa học', 'Sinh học', \n",
    "           'KHTN', 'Lịch sử', 'Địa lý', 'GDCD', 'KHXH', 'Ngoại ngữ']"
   ]
  },
  {
   "cell_type": "code",
   "execution_count": 12,
   "metadata": {},
   "outputs": [],
   "source": [
    "df.columns = columns"
   ]
  },
  {
   "cell_type": "code",
   "execution_count": 13,
   "metadata": {},
   "outputs": [
    {
     "data": {
      "text/html": [
       "<div>\n",
       "<style scoped>\n",
       "    .dataframe tbody tr th:only-of-type {\n",
       "        vertical-align: middle;\n",
       "    }\n",
       "\n",
       "    .dataframe tbody tr th {\n",
       "        vertical-align: top;\n",
       "    }\n",
       "\n",
       "    .dataframe thead th {\n",
       "        text-align: right;\n",
       "    }\n",
       "</style>\n",
       "<table border=\"1\" class=\"dataframe\">\n",
       "  <thead>\n",
       "    <tr style=\"text-align: right;\">\n",
       "      <th></th>\n",
       "      <th>Họ và Tên</th>\n",
       "      <th>SBD</th>\n",
       "      <th>Ngày sinh</th>\n",
       "      <th>Giới tính</th>\n",
       "      <th>Toán</th>\n",
       "      <th>Ngữ văn</th>\n",
       "      <th>Vật lí</th>\n",
       "      <th>Hóa học</th>\n",
       "      <th>Sinh học</th>\n",
       "      <th>KHTN</th>\n",
       "      <th>Lịch sử</th>\n",
       "      <th>Địa lý</th>\n",
       "      <th>GDCD</th>\n",
       "      <th>KHXH</th>\n",
       "      <th>Ngoại ngữ</th>\n",
       "    </tr>\n",
       "  </thead>\n",
       "  <tbody>\n",
       "    <tr>\n",
       "      <th>0</th>\n",
       "      <td>Bùi Thọ Thái Dương</td>\n",
       "      <td>2000096</td>\n",
       "      <td>28-07-2003</td>\n",
       "      <td>Nam</td>\n",
       "      <td>7.8</td>\n",
       "      <td>5.75</td>\n",
       "      <td>7.75</td>\n",
       "      <td>6.75</td>\n",
       "      <td>5.50</td>\n",
       "      <td>6.67</td>\n",
       "      <td>NaN</td>\n",
       "      <td>NaN</td>\n",
       "      <td>NaN</td>\n",
       "      <td>NaN</td>\n",
       "      <td>NaN</td>\n",
       "    </tr>\n",
       "    <tr>\n",
       "      <th>1</th>\n",
       "      <td>Trần Mai Duyên</td>\n",
       "      <td>2000095</td>\n",
       "      <td>21-09-2003</td>\n",
       "      <td>Nữ</td>\n",
       "      <td>8.0</td>\n",
       "      <td>NaN</td>\n",
       "      <td>NaN</td>\n",
       "      <td>NaN</td>\n",
       "      <td>NaN</td>\n",
       "      <td>6.67</td>\n",
       "      <td>NaN</td>\n",
       "      <td>NaN</td>\n",
       "      <td>NaN</td>\n",
       "      <td>NaN</td>\n",
       "      <td>NaN</td>\n",
       "    </tr>\n",
       "    <tr>\n",
       "      <th>2</th>\n",
       "      <td>Nguyễn Thanh Hồng Duyên</td>\n",
       "      <td>2000094</td>\n",
       "      <td>16-07-2003</td>\n",
       "      <td>Nữ</td>\n",
       "      <td>8.0</td>\n",
       "      <td>6.75</td>\n",
       "      <td>5.50</td>\n",
       "      <td>6.25</td>\n",
       "      <td>7.25</td>\n",
       "      <td>6.33</td>\n",
       "      <td>NaN</td>\n",
       "      <td>NaN</td>\n",
       "      <td>NaN</td>\n",
       "      <td>NaN</td>\n",
       "      <td>8.8</td>\n",
       "    </tr>\n",
       "    <tr>\n",
       "      <th>3</th>\n",
       "      <td>Nguyễn Ngọc Bảo Duyên</td>\n",
       "      <td>2000092</td>\n",
       "      <td>07-09-2003</td>\n",
       "      <td>Nữ</td>\n",
       "      <td>8.8</td>\n",
       "      <td>6.75</td>\n",
       "      <td>8.75</td>\n",
       "      <td>7.75</td>\n",
       "      <td>3.25</td>\n",
       "      <td>6.58</td>\n",
       "      <td>NaN</td>\n",
       "      <td>NaN</td>\n",
       "      <td>NaN</td>\n",
       "      <td>NaN</td>\n",
       "      <td>9.0</td>\n",
       "    </tr>\n",
       "    <tr>\n",
       "      <th>4</th>\n",
       "      <td>Trần Tín Duy</td>\n",
       "      <td>2000091</td>\n",
       "      <td>19-11-2003</td>\n",
       "      <td>Nam</td>\n",
       "      <td>8.0</td>\n",
       "      <td>5.75</td>\n",
       "      <td>8.75</td>\n",
       "      <td>8.25</td>\n",
       "      <td>5.50</td>\n",
       "      <td>7.50</td>\n",
       "      <td>NaN</td>\n",
       "      <td>NaN</td>\n",
       "      <td>NaN</td>\n",
       "      <td>NaN</td>\n",
       "      <td>9.2</td>\n",
       "    </tr>\n",
       "    <tr>\n",
       "      <th>...</th>\n",
       "      <td>...</td>\n",
       "      <td>...</td>\n",
       "      <td>...</td>\n",
       "      <td>...</td>\n",
       "      <td>...</td>\n",
       "      <td>...</td>\n",
       "      <td>...</td>\n",
       "      <td>...</td>\n",
       "      <td>...</td>\n",
       "      <td>...</td>\n",
       "      <td>...</td>\n",
       "      <td>...</td>\n",
       "      <td>...</td>\n",
       "      <td>...</td>\n",
       "      <td>...</td>\n",
       "    </tr>\n",
       "    <tr>\n",
       "      <th>95</th>\n",
       "      <td>Nguyễn Ngọc Hân</td>\n",
       "      <td>2071485</td>\n",
       "      <td>05-03-2003</td>\n",
       "      <td>Nữ</td>\n",
       "      <td>7.2</td>\n",
       "      <td>3.50</td>\n",
       "      <td>5.25</td>\n",
       "      <td>6.50</td>\n",
       "      <td>5.25</td>\n",
       "      <td>5.67</td>\n",
       "      <td>NaN</td>\n",
       "      <td>NaN</td>\n",
       "      <td>NaN</td>\n",
       "      <td>NaN</td>\n",
       "      <td>5.4</td>\n",
       "    </tr>\n",
       "    <tr>\n",
       "      <th>96</th>\n",
       "      <td>Hồ Gia Hân</td>\n",
       "      <td>2071481</td>\n",
       "      <td>22-11-2003</td>\n",
       "      <td>Nữ</td>\n",
       "      <td>5.6</td>\n",
       "      <td>6.50</td>\n",
       "      <td>NaN</td>\n",
       "      <td>NaN</td>\n",
       "      <td>NaN</td>\n",
       "      <td>NaN</td>\n",
       "      <td>3.75</td>\n",
       "      <td>6.75</td>\n",
       "      <td>8.0</td>\n",
       "      <td>6.17</td>\n",
       "      <td>7.4</td>\n",
       "    </tr>\n",
       "    <tr>\n",
       "      <th>97</th>\n",
       "      <td>Nguyễn Phương Hằng</td>\n",
       "      <td>2071471</td>\n",
       "      <td>01-11-2003</td>\n",
       "      <td>Nữ</td>\n",
       "      <td>5.2</td>\n",
       "      <td>6.75</td>\n",
       "      <td>NaN</td>\n",
       "      <td>NaN</td>\n",
       "      <td>NaN</td>\n",
       "      <td>NaN</td>\n",
       "      <td>4.50</td>\n",
       "      <td>5.50</td>\n",
       "      <td>9.0</td>\n",
       "      <td>6.33</td>\n",
       "      <td>5.2</td>\n",
       "    </tr>\n",
       "    <tr>\n",
       "      <th>98</th>\n",
       "      <td>Ngô Thanh Hà</td>\n",
       "      <td>2071429</td>\n",
       "      <td>11-05-2003</td>\n",
       "      <td>Nữ</td>\n",
       "      <td>7.4</td>\n",
       "      <td>6.50</td>\n",
       "      <td>6.50</td>\n",
       "      <td>6.75</td>\n",
       "      <td>4.75</td>\n",
       "      <td>6.00</td>\n",
       "      <td>NaN</td>\n",
       "      <td>NaN</td>\n",
       "      <td>NaN</td>\n",
       "      <td>NaN</td>\n",
       "      <td>9.2</td>\n",
       "    </tr>\n",
       "    <tr>\n",
       "      <th>99</th>\n",
       "      <td>Dương Việt Hà</td>\n",
       "      <td>2071420</td>\n",
       "      <td>21-10-2003</td>\n",
       "      <td>Nam</td>\n",
       "      <td>5.8</td>\n",
       "      <td>3.50</td>\n",
       "      <td>3.50</td>\n",
       "      <td>5.00</td>\n",
       "      <td>6.25</td>\n",
       "      <td>4.92</td>\n",
       "      <td>NaN</td>\n",
       "      <td>NaN</td>\n",
       "      <td>NaN</td>\n",
       "      <td>NaN</td>\n",
       "      <td>9.0</td>\n",
       "    </tr>\n",
       "  </tbody>\n",
       "</table>\n",
       "<p>87889 rows × 15 columns</p>\n",
       "</div>"
      ],
      "text/plain": [
       "                  Họ và Tên      SBD   Ngày sinh Giới tính  Toán  Ngữ văn  \\\n",
       "0        Bùi Thọ Thái Dương  2000096  28-07-2003       Nam   7.8     5.75   \n",
       "1            Trần Mai Duyên  2000095  21-09-2003        Nữ   8.0      NaN   \n",
       "2   Nguyễn Thanh Hồng Duyên  2000094  16-07-2003        Nữ   8.0     6.75   \n",
       "3     Nguyễn Ngọc Bảo Duyên  2000092  07-09-2003        Nữ   8.8     6.75   \n",
       "4              Trần Tín Duy  2000091  19-11-2003       Nam   8.0     5.75   \n",
       "..                      ...      ...         ...       ...   ...      ...   \n",
       "95          Nguyễn Ngọc Hân  2071485  05-03-2003        Nữ   7.2     3.50   \n",
       "96               Hồ Gia Hân  2071481  22-11-2003        Nữ   5.6     6.50   \n",
       "97       Nguyễn Phương Hằng  2071471  01-11-2003        Nữ   5.2     6.75   \n",
       "98             Ngô Thanh Hà  2071429  11-05-2003        Nữ   7.4     6.50   \n",
       "99            Dương Việt Hà  2071420  21-10-2003       Nam   5.8     3.50   \n",
       "\n",
       "    Vật lí  Hóa học  Sinh học  KHTN  Lịch sử  Địa lý  GDCD  KHXH  Ngoại ngữ  \n",
       "0     7.75     6.75      5.50  6.67      NaN     NaN   NaN   NaN        NaN  \n",
       "1      NaN      NaN       NaN  6.67      NaN     NaN   NaN   NaN        NaN  \n",
       "2     5.50     6.25      7.25  6.33      NaN     NaN   NaN   NaN        8.8  \n",
       "3     8.75     7.75      3.25  6.58      NaN     NaN   NaN   NaN        9.0  \n",
       "4     8.75     8.25      5.50  7.50      NaN     NaN   NaN   NaN        9.2  \n",
       "..     ...      ...       ...   ...      ...     ...   ...   ...        ...  \n",
       "95    5.25     6.50      5.25  5.67      NaN     NaN   NaN   NaN        5.4  \n",
       "96     NaN      NaN       NaN   NaN     3.75    6.75   8.0  6.17        7.4  \n",
       "97     NaN      NaN       NaN   NaN     4.50    5.50   9.0  6.33        5.2  \n",
       "98    6.50     6.75      4.75  6.00      NaN     NaN   NaN   NaN        9.2  \n",
       "99    3.50     5.00      6.25  4.92      NaN     NaN   NaN   NaN        9.0  \n",
       "\n",
       "[87889 rows x 15 columns]"
      ]
     },
     "execution_count": 13,
     "metadata": {},
     "output_type": "execute_result"
    }
   ],
   "source": [
    "df"
   ]
  },
  {
   "cell_type": "code",
   "execution_count": 14,
   "metadata": {},
   "outputs": [],
   "source": [
    "df.to_csv('./89k.csv', index = False)"
   ]
  },
  {
   "cell_type": "code",
   "execution_count": null,
   "metadata": {},
   "outputs": [],
   "source": [
    "import pandas as pd\n",
    "df = pd.read_csv('./89k.csv')"
   ]
  },
  {
   "cell_type": "code",
   "execution_count": 16,
   "metadata": {},
   "outputs": [
    {
     "data": {
      "text/html": [
       "<div>\n",
       "<style scoped>\n",
       "    .dataframe tbody tr th:only-of-type {\n",
       "        vertical-align: middle;\n",
       "    }\n",
       "\n",
       "    .dataframe tbody tr th {\n",
       "        vertical-align: top;\n",
       "    }\n",
       "\n",
       "    .dataframe thead th {\n",
       "        text-align: right;\n",
       "    }\n",
       "</style>\n",
       "<table border=\"1\" class=\"dataframe\">\n",
       "  <thead>\n",
       "    <tr style=\"text-align: right;\">\n",
       "      <th></th>\n",
       "      <th>SBD</th>\n",
       "      <th>Toán</th>\n",
       "      <th>Ngữ văn</th>\n",
       "      <th>Vật lí</th>\n",
       "      <th>Hóa học</th>\n",
       "      <th>Sinh học</th>\n",
       "      <th>KHTN</th>\n",
       "      <th>Lịch sử</th>\n",
       "      <th>Địa lý</th>\n",
       "      <th>GDCD</th>\n",
       "      <th>KHXH</th>\n",
       "      <th>Ngoại ngữ</th>\n",
       "    </tr>\n",
       "  </thead>\n",
       "  <tbody>\n",
       "    <tr>\n",
       "      <th>count</th>\n",
       "      <td>8.788900e+04</td>\n",
       "      <td>86636.000000</td>\n",
       "      <td>86457.000000</td>\n",
       "      <td>51731.000000</td>\n",
       "      <td>51910.000000</td>\n",
       "      <td>51552.000000</td>\n",
       "      <td>51552.000000</td>\n",
       "      <td>35621.000000</td>\n",
       "      <td>35442.000000</td>\n",
       "      <td>34189.000000</td>\n",
       "      <td>34189.000000</td>\n",
       "      <td>83951.000000</td>\n",
       "    </tr>\n",
       "    <tr>\n",
       "      <th>mean</th>\n",
       "      <td>2.035948e+06</td>\n",
       "      <td>7.274793</td>\n",
       "      <td>6.477391</td>\n",
       "      <td>6.325260</td>\n",
       "      <td>6.632759</td>\n",
       "      <td>5.628472</td>\n",
       "      <td>6.196979</td>\n",
       "      <td>5.399497</td>\n",
       "      <td>7.094697</td>\n",
       "      <td>8.636126</td>\n",
       "      <td>7.025445</td>\n",
       "      <td>7.169296</td>\n",
       "    </tr>\n",
       "    <tr>\n",
       "      <th>std</th>\n",
       "      <td>2.516620e+04</td>\n",
       "      <td>1.167164</td>\n",
       "      <td>0.999762</td>\n",
       "      <td>1.378356</td>\n",
       "      <td>1.430758</td>\n",
       "      <td>1.380208</td>\n",
       "      <td>1.053516</td>\n",
       "      <td>1.636971</td>\n",
       "      <td>0.994727</td>\n",
       "      <td>0.963240</td>\n",
       "      <td>0.963568</td>\n",
       "      <td>2.002035</td>\n",
       "    </tr>\n",
       "    <tr>\n",
       "      <th>min</th>\n",
       "      <td>2.000001e+06</td>\n",
       "      <td>2.800000</td>\n",
       "      <td>2.000000</td>\n",
       "      <td>2.750000</td>\n",
       "      <td>1.750000</td>\n",
       "      <td>0.250000</td>\n",
       "      <td>3.250000</td>\n",
       "      <td>1.500000</td>\n",
       "      <td>4.000000</td>\n",
       "      <td>5.000000</td>\n",
       "      <td>4.580000</td>\n",
       "      <td>1.800000</td>\n",
       "    </tr>\n",
       "    <tr>\n",
       "      <th>25%</th>\n",
       "      <td>2.017827e+06</td>\n",
       "      <td>6.600000</td>\n",
       "      <td>6.000000</td>\n",
       "      <td>5.500000</td>\n",
       "      <td>5.500000</td>\n",
       "      <td>4.750000</td>\n",
       "      <td>5.500000</td>\n",
       "      <td>4.000000</td>\n",
       "      <td>6.500000</td>\n",
       "      <td>8.250000</td>\n",
       "      <td>6.250000</td>\n",
       "      <td>5.600000</td>\n",
       "    </tr>\n",
       "    <tr>\n",
       "      <th>50%</th>\n",
       "      <td>2.035750e+06</td>\n",
       "      <td>7.400000</td>\n",
       "      <td>6.500000</td>\n",
       "      <td>6.500000</td>\n",
       "      <td>7.000000</td>\n",
       "      <td>5.500000</td>\n",
       "      <td>6.250000</td>\n",
       "      <td>5.500000</td>\n",
       "      <td>7.000000</td>\n",
       "      <td>8.750000</td>\n",
       "      <td>7.080000</td>\n",
       "      <td>7.600000</td>\n",
       "    </tr>\n",
       "    <tr>\n",
       "      <th>75%</th>\n",
       "      <td>2.053575e+06</td>\n",
       "      <td>8.200000</td>\n",
       "      <td>7.250000</td>\n",
       "      <td>7.500000</td>\n",
       "      <td>7.750000</td>\n",
       "      <td>6.500000</td>\n",
       "      <td>6.940000</td>\n",
       "      <td>6.750000</td>\n",
       "      <td>7.750000</td>\n",
       "      <td>9.500000</td>\n",
       "      <td>7.830000</td>\n",
       "      <td>8.800000</td>\n",
       "    </tr>\n",
       "    <tr>\n",
       "      <th>max</th>\n",
       "      <td>2.071499e+06</td>\n",
       "      <td>9.800000</td>\n",
       "      <td>8.500000</td>\n",
       "      <td>9.000000</td>\n",
       "      <td>9.250000</td>\n",
       "      <td>10.000000</td>\n",
       "      <td>8.420000</td>\n",
       "      <td>9.000000</td>\n",
       "      <td>9.250000</td>\n",
       "      <td>10.000000</td>\n",
       "      <td>8.920000</td>\n",
       "      <td>10.000000</td>\n",
       "    </tr>\n",
       "  </tbody>\n",
       "</table>\n",
       "</div>"
      ],
      "text/plain": [
       "                SBD          Toán       Ngữ văn        Vật lí       Hóa học  \\\n",
       "count  8.788900e+04  86636.000000  86457.000000  51731.000000  51910.000000   \n",
       "mean   2.035948e+06      7.274793      6.477391      6.325260      6.632759   \n",
       "std    2.516620e+04      1.167164      0.999762      1.378356      1.430758   \n",
       "min    2.000001e+06      2.800000      2.000000      2.750000      1.750000   \n",
       "25%    2.017827e+06      6.600000      6.000000      5.500000      5.500000   \n",
       "50%    2.035750e+06      7.400000      6.500000      6.500000      7.000000   \n",
       "75%    2.053575e+06      8.200000      7.250000      7.500000      7.750000   \n",
       "max    2.071499e+06      9.800000      8.500000      9.000000      9.250000   \n",
       "\n",
       "           Sinh học          KHTN       Lịch sử        Địa lý          GDCD  \\\n",
       "count  51552.000000  51552.000000  35621.000000  35442.000000  34189.000000   \n",
       "mean       5.628472      6.196979      5.399497      7.094697      8.636126   \n",
       "std        1.380208      1.053516      1.636971      0.994727      0.963240   \n",
       "min        0.250000      3.250000      1.500000      4.000000      5.000000   \n",
       "25%        4.750000      5.500000      4.000000      6.500000      8.250000   \n",
       "50%        5.500000      6.250000      5.500000      7.000000      8.750000   \n",
       "75%        6.500000      6.940000      6.750000      7.750000      9.500000   \n",
       "max       10.000000      8.420000      9.000000      9.250000     10.000000   \n",
       "\n",
       "               KHXH     Ngoại ngữ  \n",
       "count  34189.000000  83951.000000  \n",
       "mean       7.025445      7.169296  \n",
       "std        0.963568      2.002035  \n",
       "min        4.580000      1.800000  \n",
       "25%        6.250000      5.600000  \n",
       "50%        7.080000      7.600000  \n",
       "75%        7.830000      8.800000  \n",
       "max        8.920000     10.000000  "
      ]
     },
     "execution_count": 16,
     "metadata": {},
     "output_type": "execute_result"
    }
   ],
   "source": [
    "df.describe()"
   ]
  },
  {
   "cell_type": "code",
   "execution_count": 32,
   "metadata": {},
   "outputs": [
    {
     "name": "stdout",
     "output_type": "stream",
     "text": [
      "Tỷ lệ thi môn  Toán :  0.9857433808553971\n",
      "Tỷ lệ thi môn  Ngữ văn :  0.9837067209775967\n",
      "Tỷ lệ thi môn  Vật lí :  0.5885947046843177\n",
      "Tỷ lệ thi môn  Hóa học :  0.5906313645621182\n",
      "Tỷ lệ thi môn  Sinh học :  0.5865580448065173\n",
      "Tỷ lệ thi môn  KHTN :  0.5865580448065173\n",
      "Tỷ lệ thi môn  Lịch sử :  0.40529531568228105\n",
      "Tỷ lệ thi môn  Địa lý :  0.40325865580448067\n",
      "Tỷ lệ thi môn  GDCD :  0.3890020366598778\n",
      "Tỷ lệ thi môn  KHXH :  0.3890020366598778\n",
      "Tỷ lệ thi môn  Ngoại ngữ :  0.955193482688391\n"
     ]
    }
   ],
   "source": [
    "for c in df.columns[4:]:\n",
    "    print('Tỷ lệ thi môn ', c, ': ', len(df[df[c].notnull()])/len(df))"
   ]
  },
  {
   "cell_type": "code",
   "execution_count": 34,
   "metadata": {},
   "outputs": [
    {
     "data": {
      "text/html": [
       "<div>\n",
       "<style scoped>\n",
       "    .dataframe tbody tr th:only-of-type {\n",
       "        vertical-align: middle;\n",
       "    }\n",
       "\n",
       "    .dataframe tbody tr th {\n",
       "        vertical-align: top;\n",
       "    }\n",
       "\n",
       "    .dataframe thead th {\n",
       "        text-align: right;\n",
       "    }\n",
       "</style>\n",
       "<table border=\"1\" class=\"dataframe\">\n",
       "  <thead>\n",
       "    <tr style=\"text-align: right;\">\n",
       "      <th></th>\n",
       "      <th>Họ và Tên</th>\n",
       "      <th>SBD</th>\n",
       "      <th>Ngày sinh</th>\n",
       "      <th>Giới tính</th>\n",
       "      <th>Toán</th>\n",
       "      <th>Ngữ văn</th>\n",
       "      <th>Vật lí</th>\n",
       "      <th>Hóa học</th>\n",
       "      <th>Sinh học</th>\n",
       "      <th>KHTN</th>\n",
       "      <th>Lịch sử</th>\n",
       "      <th>Địa lý</th>\n",
       "      <th>GDCD</th>\n",
       "      <th>KHXH</th>\n",
       "      <th>Ngoại ngữ</th>\n",
       "    </tr>\n",
       "  </thead>\n",
       "  <tbody>\n",
       "    <tr>\n",
       "      <th>0</th>\n",
       "      <td>Bùi Thọ Thái Dương</td>\n",
       "      <td>2000096</td>\n",
       "      <td>28-07-2003</td>\n",
       "      <td>Nam</td>\n",
       "      <td>7.8</td>\n",
       "      <td>5.75</td>\n",
       "      <td>7.75</td>\n",
       "      <td>6.75</td>\n",
       "      <td>5.50</td>\n",
       "      <td>6.67</td>\n",
       "      <td>NaN</td>\n",
       "      <td>NaN</td>\n",
       "      <td>NaN</td>\n",
       "      <td>NaN</td>\n",
       "      <td>NaN</td>\n",
       "    </tr>\n",
       "    <tr>\n",
       "      <th>1</th>\n",
       "      <td>Trần Mai Duyên</td>\n",
       "      <td>2000095</td>\n",
       "      <td>21-09-2003</td>\n",
       "      <td>Nữ</td>\n",
       "      <td>8.0</td>\n",
       "      <td>NaN</td>\n",
       "      <td>NaN</td>\n",
       "      <td>NaN</td>\n",
       "      <td>NaN</td>\n",
       "      <td>6.67</td>\n",
       "      <td>NaN</td>\n",
       "      <td>NaN</td>\n",
       "      <td>NaN</td>\n",
       "      <td>NaN</td>\n",
       "      <td>NaN</td>\n",
       "    </tr>\n",
       "    <tr>\n",
       "      <th>2</th>\n",
       "      <td>Nguyễn Thanh Hồng Duyên</td>\n",
       "      <td>2000094</td>\n",
       "      <td>16-07-2003</td>\n",
       "      <td>Nữ</td>\n",
       "      <td>8.0</td>\n",
       "      <td>6.75</td>\n",
       "      <td>5.50</td>\n",
       "      <td>6.25</td>\n",
       "      <td>7.25</td>\n",
       "      <td>6.33</td>\n",
       "      <td>NaN</td>\n",
       "      <td>NaN</td>\n",
       "      <td>NaN</td>\n",
       "      <td>NaN</td>\n",
       "      <td>8.8</td>\n",
       "    </tr>\n",
       "    <tr>\n",
       "      <th>3</th>\n",
       "      <td>Nguyễn Ngọc Bảo Duyên</td>\n",
       "      <td>2000092</td>\n",
       "      <td>07-09-2003</td>\n",
       "      <td>Nữ</td>\n",
       "      <td>8.8</td>\n",
       "      <td>6.75</td>\n",
       "      <td>8.75</td>\n",
       "      <td>7.75</td>\n",
       "      <td>3.25</td>\n",
       "      <td>6.58</td>\n",
       "      <td>NaN</td>\n",
       "      <td>NaN</td>\n",
       "      <td>NaN</td>\n",
       "      <td>NaN</td>\n",
       "      <td>9.0</td>\n",
       "    </tr>\n",
       "    <tr>\n",
       "      <th>4</th>\n",
       "      <td>Trần Tín Duy</td>\n",
       "      <td>2000091</td>\n",
       "      <td>19-11-2003</td>\n",
       "      <td>Nam</td>\n",
       "      <td>8.0</td>\n",
       "      <td>5.75</td>\n",
       "      <td>8.75</td>\n",
       "      <td>8.25</td>\n",
       "      <td>5.50</td>\n",
       "      <td>7.50</td>\n",
       "      <td>NaN</td>\n",
       "      <td>NaN</td>\n",
       "      <td>NaN</td>\n",
       "      <td>NaN</td>\n",
       "      <td>9.2</td>\n",
       "    </tr>\n",
       "    <tr>\n",
       "      <th>...</th>\n",
       "      <td>...</td>\n",
       "      <td>...</td>\n",
       "      <td>...</td>\n",
       "      <td>...</td>\n",
       "      <td>...</td>\n",
       "      <td>...</td>\n",
       "      <td>...</td>\n",
       "      <td>...</td>\n",
       "      <td>...</td>\n",
       "      <td>...</td>\n",
       "      <td>...</td>\n",
       "      <td>...</td>\n",
       "      <td>...</td>\n",
       "      <td>...</td>\n",
       "      <td>...</td>\n",
       "    </tr>\n",
       "    <tr>\n",
       "      <th>95</th>\n",
       "      <td>Nguyễn Ngọc Hân</td>\n",
       "      <td>2071485</td>\n",
       "      <td>05-03-2003</td>\n",
       "      <td>Nữ</td>\n",
       "      <td>7.2</td>\n",
       "      <td>3.50</td>\n",
       "      <td>5.25</td>\n",
       "      <td>6.50</td>\n",
       "      <td>5.25</td>\n",
       "      <td>5.67</td>\n",
       "      <td>NaN</td>\n",
       "      <td>NaN</td>\n",
       "      <td>NaN</td>\n",
       "      <td>NaN</td>\n",
       "      <td>5.4</td>\n",
       "    </tr>\n",
       "    <tr>\n",
       "      <th>96</th>\n",
       "      <td>Hồ Gia Hân</td>\n",
       "      <td>2071481</td>\n",
       "      <td>22-11-2003</td>\n",
       "      <td>Nữ</td>\n",
       "      <td>5.6</td>\n",
       "      <td>6.50</td>\n",
       "      <td>NaN</td>\n",
       "      <td>NaN</td>\n",
       "      <td>NaN</td>\n",
       "      <td>NaN</td>\n",
       "      <td>3.75</td>\n",
       "      <td>6.75</td>\n",
       "      <td>8.0</td>\n",
       "      <td>6.17</td>\n",
       "      <td>7.4</td>\n",
       "    </tr>\n",
       "    <tr>\n",
       "      <th>97</th>\n",
       "      <td>Nguyễn Phương Hằng</td>\n",
       "      <td>2071471</td>\n",
       "      <td>01-11-2003</td>\n",
       "      <td>Nữ</td>\n",
       "      <td>5.2</td>\n",
       "      <td>6.75</td>\n",
       "      <td>NaN</td>\n",
       "      <td>NaN</td>\n",
       "      <td>NaN</td>\n",
       "      <td>NaN</td>\n",
       "      <td>4.50</td>\n",
       "      <td>5.50</td>\n",
       "      <td>9.0</td>\n",
       "      <td>6.33</td>\n",
       "      <td>5.2</td>\n",
       "    </tr>\n",
       "    <tr>\n",
       "      <th>98</th>\n",
       "      <td>Ngô Thanh Hà</td>\n",
       "      <td>2071429</td>\n",
       "      <td>11-05-2003</td>\n",
       "      <td>Nữ</td>\n",
       "      <td>7.4</td>\n",
       "      <td>6.50</td>\n",
       "      <td>6.50</td>\n",
       "      <td>6.75</td>\n",
       "      <td>4.75</td>\n",
       "      <td>6.00</td>\n",
       "      <td>NaN</td>\n",
       "      <td>NaN</td>\n",
       "      <td>NaN</td>\n",
       "      <td>NaN</td>\n",
       "      <td>9.2</td>\n",
       "    </tr>\n",
       "    <tr>\n",
       "      <th>99</th>\n",
       "      <td>Dương Việt Hà</td>\n",
       "      <td>2071420</td>\n",
       "      <td>21-10-2003</td>\n",
       "      <td>Nam</td>\n",
       "      <td>5.8</td>\n",
       "      <td>3.50</td>\n",
       "      <td>3.50</td>\n",
       "      <td>5.00</td>\n",
       "      <td>6.25</td>\n",
       "      <td>4.92</td>\n",
       "      <td>NaN</td>\n",
       "      <td>NaN</td>\n",
       "      <td>NaN</td>\n",
       "      <td>NaN</td>\n",
       "      <td>9.0</td>\n",
       "    </tr>\n",
       "  </tbody>\n",
       "</table>\n",
       "<p>87889 rows × 15 columns</p>\n",
       "</div>"
      ],
      "text/plain": [
       "                  Họ và Tên      SBD   Ngày sinh Giới tính  Toán  Ngữ văn  \\\n",
       "0        Bùi Thọ Thái Dương  2000096  28-07-2003       Nam   7.8     5.75   \n",
       "1            Trần Mai Duyên  2000095  21-09-2003        Nữ   8.0      NaN   \n",
       "2   Nguyễn Thanh Hồng Duyên  2000094  16-07-2003        Nữ   8.0     6.75   \n",
       "3     Nguyễn Ngọc Bảo Duyên  2000092  07-09-2003        Nữ   8.8     6.75   \n",
       "4              Trần Tín Duy  2000091  19-11-2003       Nam   8.0     5.75   \n",
       "..                      ...      ...         ...       ...   ...      ...   \n",
       "95          Nguyễn Ngọc Hân  2071485  05-03-2003        Nữ   7.2     3.50   \n",
       "96               Hồ Gia Hân  2071481  22-11-2003        Nữ   5.6     6.50   \n",
       "97       Nguyễn Phương Hằng  2071471  01-11-2003        Nữ   5.2     6.75   \n",
       "98             Ngô Thanh Hà  2071429  11-05-2003        Nữ   7.4     6.50   \n",
       "99            Dương Việt Hà  2071420  21-10-2003       Nam   5.8     3.50   \n",
       "\n",
       "    Vật lí  Hóa học  Sinh học  KHTN  Lịch sử  Địa lý  GDCD  KHXH  Ngoại ngữ  \n",
       "0     7.75     6.75      5.50  6.67      NaN     NaN   NaN   NaN        NaN  \n",
       "1      NaN      NaN       NaN  6.67      NaN     NaN   NaN   NaN        NaN  \n",
       "2     5.50     6.25      7.25  6.33      NaN     NaN   NaN   NaN        8.8  \n",
       "3     8.75     7.75      3.25  6.58      NaN     NaN   NaN   NaN        9.0  \n",
       "4     8.75     8.25      5.50  7.50      NaN     NaN   NaN   NaN        9.2  \n",
       "..     ...      ...       ...   ...      ...     ...   ...   ...        ...  \n",
       "95    5.25     6.50      5.25  5.67      NaN     NaN   NaN   NaN        5.4  \n",
       "96     NaN      NaN       NaN   NaN     3.75    6.75   8.0  6.17        7.4  \n",
       "97     NaN      NaN       NaN   NaN     4.50    5.50   9.0  6.33        5.2  \n",
       "98    6.50     6.75      4.75  6.00      NaN     NaN   NaN   NaN        9.2  \n",
       "99    3.50     5.00      6.25  4.92      NaN     NaN   NaN   NaN        9.0  \n",
       "\n",
       "[87889 rows x 15 columns]"
      ]
     },
     "execution_count": 34,
     "metadata": {},
     "output_type": "execute_result"
    }
   ],
   "source": [
    "df"
   ]
  },
  {
   "cell_type": "code",
   "execution_count": 64,
   "metadata": {},
   "outputs": [],
   "source": [
    "df['Họ'] = df['Họ và Tên'].str.split(' ').str[0]\n",
    "df['Tên'] = df['Họ và Tên'].str.split(' ').str[-1]"
   ]
  },
  {
   "cell_type": "code",
   "execution_count": 56,
   "metadata": {},
   "outputs": [
    {
     "data": {
      "text/plain": [
       "<AxesSubplot:xlabel='Họ'>"
      ]
     },
     "execution_count": 56,
     "metadata": {},
     "output_type": "execute_result"
    },
    {
     "data": {
      "image/png": "[encoded data removed]",
      "text/plain": [
       "<Figure size 2880x1080 with 1 Axes>"
      ]
     },
     "metadata": {
      "needs_background": "light"
     },
     "output_type": "display_data"
    }
   ],
   "source": [
    "df.groupby('Họ')['SBD'].count().reset_index().sort_values('SBD',ascending=False).plot.bar(x='Họ', y='SBD', figsize = (40,15), fontsize = 20)\n"
   ]
  },
  {
   "cell_type": "code",
   "execution_count": 75,
   "metadata": {},
   "outputs": [
    {
     "data": {
      "text/plain": [
       "<AxesSubplot:xlabel='Tên'>"
      ]
     },
     "execution_count": 75,
     "metadata": {},
     "output_type": "execute_result"
    },
    {
     "data": {
      "image/png": "[encoded data removed]",
      "text/plain": [
       "<Figure size 2880x1080 with 1 Axes>"
      ]
     },
     "metadata": {
      "needs_background": "light"
     },
     "output_type": "display_data"
    }
   ],
   "source": [
    "df.groupby('Tên')['SBD'].count().reset_index().sort_values('SBD',ascending=False).plot.bar(x='Tên', y='SBD', figsize = (40,15), fontsize = 22)\n"
   ]
  },
  {
   "cell_type": "code",
   "execution_count": 62,
   "metadata": {},
   "outputs": [
    {
     "name": "stdout",
     "output_type": "stream",
     "text": [
      "Toán\n",
      "Ngữ văn\n",
      "Vật lí\n",
      "Hóa học\n",
      "Sinh học\n",
      "KHTN\n",
      "Lịch sử\n",
      "Địa lý\n",
      "GDCD\n",
      "KHXH\n",
      "Ngoại ngữ\n"
     ]
    },
    {
     "data": {
      "image/png": "[encoded data removed]",
      "text/plain": [
       "<Figure size 432x288 with 1 Axes>"
      ]
     },
     "metadata": {
      "needs_background": "light"
     },
     "output_type": "display_data"
    }
   ],
   "source": [
    "for c in df.columns[4:-1]:\n",
    "    print(c)\n",
    "    df[c].plot.hist(bins=10, alpha=0.5)"
   ]
  },
  {
   "cell_type": "code",
   "execution_count": 63,
   "metadata": {},
   "outputs": [
    {
     "data": {
      "text/plain": [
       "<AxesSubplot:ylabel='Frequency'>"
      ]
     },
     "execution_count": 63,
     "metadata": {},
     "output_type": "execute_result"
    },
    {
     "data": {
      "image/png": "[encoded data removed]",
      "text/plain": [
       "<Figure size 432x288 with 1 Axes>"
      ]
     },
     "metadata": {
      "needs_background": "light"
     },
     "output_type": "display_data"
    }
   ],
   "source": [
    "df['Toán'].plot.hist(bins=10, alpha=0.5)"
   ]
  },
  {
   "cell_type": "code",
   "execution_count": 68,
   "metadata": {},
   "outputs": [
    {
     "data": {
      "text/plain": [
       "<AxesSubplot:ylabel='Frequency'>"
      ]
     },
     "execution_count": 68,
     "metadata": {},
     "output_type": "execute_result"
    },
    {
     "data": {
      "image/png": "[encoded data removed]",
      "text/plain": [
       "<Figure size 432x288 with 1 Axes>"
      ]
     },
     "metadata": {
      "needs_background": "light"
     },
     "output_type": "display_data"
    }
   ],
   "source": [
    "df['Ngữ văn'].plot.hist(bins=10, alpha=0.5)"
   ]
  },
  {
   "cell_type": "code",
   "execution_count": 71,
   "metadata": {},
   "outputs": [
    {
     "data": {
      "text/plain": [
       "<AxesSubplot:ylabel='Frequency'>"
      ]
     },
     "execution_count": 71,
     "metadata": {},
     "output_type": "execute_result"
    },
    {
     "data": {
      "image/png": "[encoded data removed]",
      "text/plain": [
       "<Figure size 432x288 with 1 Axes>"
      ]
     },
     "metadata": {
      "needs_background": "light"
     },
     "output_type": "display_data"
    }
   ],
   "source": [
    "df['Ngoại ngữ'].plot.hist(bins=10, alpha=0.5)"
   ]
  },
  {
   "cell_type": "code",
   "execution_count": 73,
   "metadata": {},
   "outputs": [
    {
     "data": {
      "text/plain": [
       "<AxesSubplot:ylabel='Frequency'>"
      ]
     },
     "execution_count": 73,
     "metadata": {},
     "output_type": "execute_result"
    },
    {
     "data": {
      "image/png": "[encoded data removed]",
      "text/plain": [
       "<Figure size 432x288 with 1 Axes>"
      ]
     },
     "metadata": {
      "needs_background": "light"
     },
     "output_type": "display_data"
    }
   ],
   "source": [
    "df[['Ngoại ngữ', 'Ngữ văn']].plot.hist(bins=10, alpha=0.5)"
   ]
  },
  {
   "cell_type": "code",
   "execution_count": 90,
   "metadata": {},
   "outputs": [
    {
     "data": {
      "text/plain": [
       "<AxesSubplot:ylabel='Frequency'>"
      ]
     },
     "execution_count": 90,
     "metadata": {},
     "output_type": "execute_result"
    },
    {
     "data": {
      "image/png": "[encoded data removed]",
      "text/plain": [
       "<Figure size 432x288 with 1 Axes>"
      ]
     },
     "metadata": {
      "needs_background": "light"
     },
     "output_type": "display_data"
    }
   ],
   "source": [
    "df[['KHTN', 'KHXH']].plot.hist(bins=10, alpha=0.5)"
   ]
  },
  {
   "cell_type": "code",
   "execution_count": 88,
   "metadata": {},
   "outputs": [
    {
     "data": {
      "text/plain": [
       "<AxesSubplot:ylabel='SBD'>"
      ]
     },
     "execution_count": 88,
     "metadata": {},
     "output_type": "execute_result"
    },
    {
     "data": {
      "image/png": "[encoded data removed]",
      "text/plain": [
       "<Figure size 360x360 with 1 Axes>"
      ]
     },
     "metadata": {},
     "output_type": "display_data"
    }
   ],
   "source": [
    "df.groupby('Giới tính')['SBD'].count().plot.pie(y='SBD', x='Giới tính', figsize=(5, 5))"
   ]
  },
  {
   "cell_type": "code",
   "execution_count": 89,
   "metadata": {},
   "outputs": [
    {
     "data": {
      "text/plain": [
       "Giới tính\n",
       "Nam    39917\n",
       "Nữ     47972\n",
       "Name: SBD, dtype: int64"
      ]
     },
     "execution_count": 89,
     "metadata": {},
     "output_type": "execute_result"
    }
   ],
   "source": [
    "df.groupby('Giới tính')['SBD'].count()"
   ]
  }
 ],
 "metadata": {
  "kernelspec": {
   "display_name": "Python 3",
   "language": "python",
   "name": "python3"
  },
  "language_info": {
   "codemirror_mode": {
    "name": "ipython",
    "version": 3
   },
   "file_extension": ".py",
   "mimetype": "text/x-python",
   "name": "python",
   "nbconvert_exporter": "python",
   "pygments_lexer": "ipython3",
   "version": "3.8.3"
  }
 },
 "nbformat": 4,
 "nbformat_minor": 4
}
